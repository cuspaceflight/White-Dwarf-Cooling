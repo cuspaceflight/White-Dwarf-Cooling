{
 "cells": [
  {
   "cell_type": "markdown",
   "id": "1bf098ea",
   "metadata": {},
   "source": [
    "# Cooling Loop Pressure Drops\n",
    "\n",
    "Calculation of the overall pressure drop, including the expected losses in the cooling jacket inlet and outlet.\n",
    "\n",
    "\n",
    "### References:\n",
    "- [1] - https://neutrium.net/fluid-flow/pressure-loss-from-fittings-excess-head-k-method/\n",
    "- [2] - https://neutrium.net/fluid-flow/pressure-loss-from-fittings-expansion-and-reduction-in-pipe-size/\n",
    "- [3] - https://en.wikipedia.org/wiki/Hydraulic_diameter#List_of_hydraulic_diameters"
   ]
  },
  {
   "cell_type": "code",
   "execution_count": 1,
   "id": "fcb1372f",
   "metadata": {},
   "outputs": [],
   "source": [
    "import white_dwarf\n",
    "import numpy as np\n",
    "from CoolProp.CoolProp import PropsSI\n",
    "import matplotlib.pyplot as plt\n",
    "import matplotlib as mpl\n",
    "\n",
    "mpl.rcParams['figure.dpi'] = 130"
   ]
  },
  {
   "cell_type": "code",
   "execution_count": 2,
   "id": "f784fb12",
   "metadata": {},
   "outputs": [
    {
     "name": "stdout",
     "output_type": "stream",
     "text": [
      "Loaded 1921 thermo species\n",
      "Loaded 1031 propellants\n"
     ]
    },
    {
     "name": "stderr",
     "output_type": "stream",
     "text": [
      "C:\\Users\\Daniel\\OneDrive - University of Cambridge\\Cambridge\\CUSF\\Github Repositories\\White-Dwarf-Cooling\\white_dwarf.py:124: UserWarning: The area ratio provided (2.147421889767617) is outside of the range of available data. Maximum available is 54.623, minimum is 3.678. Will use a 15 degree cone instead.\n",
      "  xs, ys = bam.rao.get_rao_contour(r_c = Rc,\n",
      "C:\\Users\\Daniel\\OneDrive - University of Cambridge\\Cambridge\\CUSF\\Github Repositories\\White-Dwarf-Cooling\\white_dwarf.py:245: UserWarning: More than one wall is present. Thermal stresses calculations will ignore any incompatibility in different thermal expansions.\n",
      "  cooling_data = engine.steady_heating_analysis()\n",
      "C:\\Users\\Daniel\\anaconda3\\lib\\site-packages\\bamboo\\engine.py:1249: RuntimeWarning: divide by zero encountered in double_scalars\n",
      "  results[\"sigma_t_pressure\"][i][j] = (p_l - p_g) * D / (2 * t_w)\n"
     ]
    }
   ],
   "source": [
    "data = white_dwarf.get_data()"
   ]
  },
  {
   "cell_type": "markdown",
   "id": "73b21aeb",
   "metadata": {},
   "source": [
    "### Plumbing Set Up\n",
    "\n",
    "Assume the following plumbing loop:\n",
    "\n",
    "- 1 m pipe from pump to engine inlet, 20 mm diameter.\n",
    "- 20 mm orifice for engine inlet.\n",
    "- Inlet distribution ring is a pipe curved along a half-circular arc (radius 75.55 mm), with flow area  6.27e-4 m$^2$ (rectangle of sides 20.90 mm by 30 mm).\n",
    "- 90 degree turn into cooling channels, K-type pressure drop ($\\Delta p = \\frac{1}{2} \\rho V^2 K$) with K = 1.3 [1]. Take the area as 0.0111 m$^2$.\n",
    "- Area contraction into cooling channels, modelled as K-type drop [2]. Take the initial area as 0.0111 m$^2$ (annulus with $r_{in}$ = 62.1 mm and $r_{out}$ = 86mm).\n",
    "- Pressure drop across cooling jacket.\n",
    "- Outlet distribution ring, curved along a half-circular rac (radius 62.575mm), with a rectangular flow cross section (dimensions unconfirmed).\n",
    "- 1 m pipe from engine back to water bucket, 20 mm diameter.\n",
    "- Outlet into bucket, modelled as a 20 mm diameter orifice.\n",
    "\n",
    "Note that you should usually use the inlet velocity with K-value pressure drops."
   ]
  },
  {
   "cell_type": "code",
   "execution_count": 3,
   "id": "02944070",
   "metadata": {},
   "outputs": [],
   "source": [
    "# Function to calculate pipe pressure drops\n",
    "REDH_LAMINAR = 2300\n",
    "REDH_TURBULENT = 3500\n",
    "\n",
    "def f_darcy(ReDh, Dh):\n",
    "    \n",
    "    if ReDh < REDH_LAMINAR:\n",
    "         # Laminar\n",
    "        return 64.0 / ReDh         \n",
    "    \n",
    "    else:\n",
    "        f_darcy_turbulent = (0.79 * np.log(ReDh) - 1.64)**(-2)   # Putukhov equation for smooth pipes\n",
    "    \n",
    "    \n",
    "        if ReDh < REDH_TURBULENT:\n",
    "            # Transitional  \n",
    "            f_darcy_laminar = 64.0 / ReDh     \n",
    "\n",
    "            # \"Blend\" between the laminar and turbulent region\n",
    "            return np.interp(ReDh, [REDH_LAMINAR, REDH_TURBULENT], [f_darcy_laminar, f_darcy_turbulent])\n",
    "\n",
    "        else:\n",
    "            # Turbulent\n",
    "            return f_darcy_turbulent\n",
    "\n",
    "def dp_dx(f_darcy, rho, V, Dh):\n",
    "    return f_darcy * (rho / 2) * (V**2) / Dh"
   ]
  },
  {
   "cell_type": "markdown",
   "id": "984cb085",
   "metadata": {},
   "source": [
    "First set up the problem nicely."
   ]
  },
  {
   "cell_type": "code",
   "execution_count": 4,
   "id": "ff1ab6d6",
   "metadata": {},
   "outputs": [],
   "source": [
    "CD = 0.7\n",
    "mdot = white_dwarf.inputs[\"mdot_coolant\"]\n",
    "rho = (data[\"rho_coolant\"][0] + data[\"rho_coolant\"][-1] ) / 2   # Average density\n",
    "mu = PropsSI(\"VISCOSITY\", \"T\", data[\"T_coolant\"][0], \"P\", data[\"p_coolant\"][0], \"WATER\")\n",
    "\n",
    "# Delivery pipe\n",
    "L1 = 1\n",
    "D1 = 20e-3\n",
    "A1 = np.pi * D1**2 / 4\n",
    "V1 = mdot / (A1 * rho)\n",
    "Re1 = rho * V1 * D1 / mu\n",
    "\n",
    "# Inlet orifice\n",
    "CD2 = CD\n",
    "D2 = 20e-3\n",
    "A2 = np.pi * D2**2 / 4\n",
    "\n",
    "# Inlet distribution ring\n",
    "L3 = 0.5 * (2 * np.pi * 75.55e-3) # Only travel half way around the circle\n",
    "A3 = 6.27e-4\n",
    "DH3 = 2 * 20.9e-3 * 30e-3 / (20.9e-3 + 30e-3)   # Reference [3]\n",
    "V3 = mdot / (A3 * rho)\n",
    "Re3 = rho * V3 * DH3 / mu\n",
    "\n",
    "# Turn into cooling channels\n",
    "K4 = 1.3\n",
    "A4 = 0.0111\n",
    "V4 = mdot / (A4 * rho)\n",
    "\n",
    "# Area change into cooling channels\n",
    "A5_IN = 0.0111\n",
    "DH5_IN = (86e-3 * 2) - (62.1e-3 * 2)\n",
    "V5_IN =  mdot / (A5_IN * rho)\n",
    "A5_OUT = mdot / (data[\"V_coolant\"][0] * data[\"rho_coolant\"][0])\n",
    "Re5_IN = rho * V5_IN * DH5_IN / mu\n",
    "\n",
    "if Re5_IN < 2500:\n",
    "    K5 = (1.2 + 160 / Re5_IN) * ((A5_IN / A5_OUT)**2 - 1)   # Reference [2] \n",
    "else:\n",
    "    f_darcy_5 = f_darcy(ReDh = Re5_IN, Dh = DH5_IN)\n",
    "    K5 = (0.6 + 0.48 * f_darcy_5) * (A5_IN / A5_OUT) * (A5_IN / A5_OUT - 1)\n",
    "    \n",
    "# Cooling jacket\n",
    "DP6 = abs(data[\"p_coolant\"][0] - data[\"p_coolant\"][-1])\n",
    "\n",
    "# Outlet distribution ring\n",
    "W_DIST_OUT = 27e-3    # Rectangle width\n",
    "H_DIST_OUT = 1.45e-3  # Rectangle height \n",
    "\n",
    "L_DIST_OUT = 0.5 * (2 * np.pi * 62.575e-3) # Only travel half way around the circle\n",
    "A_DIST_OUT = W_DIST_OUT * H_DIST_OUT\n",
    "DH_DIST_OUT = 2 * H_DIST_OUT * W_DIST_OUT / (H_DIST_OUT + W_DIST_OUT)   # Reference [3]\n",
    "V_DIST_OUT = mdot / (A_DIST_OUT * rho)\n",
    "Re_DIST_OUT = rho * V_DIST_OUT * DH_DIST_OUT / mu\n",
    "\n",
    "# Return pipe\n",
    "L8 = 1\n",
    "D8 = D1\n",
    "A8 = np.pi *D8**2 / 4\n",
    "V8 = mdot / (A8 * rho)\n",
    "Re8 = rho * V8 * D8 / mu\n",
    "\n",
    "# Into bucket\n",
    "CD9 = CD\n",
    "D9 = 20e-3\n",
    "A9 = np.pi * D9**2 / 4"
   ]
  },
  {
   "cell_type": "markdown",
   "id": "f7165d0f",
   "metadata": {},
   "source": [
    "Now calculate the pressure drops themselves."
   ]
  },
  {
   "cell_type": "code",
   "execution_count": 5,
   "id": "ee1b775b",
   "metadata": {},
   "outputs": [],
   "source": [
    "# Delivery pipe\n",
    "f_darcy_1 = f_darcy(ReDh = Re1, Dh = D1)\n",
    "dp_dx_1 = dp_dx(f_darcy = f_darcy_1, rho = rho, V = V1, Dh = D1)\n",
    "\n",
    "DP1 = dp_dx_1 * L1\n",
    "\n",
    "# Inlet orifice\n",
    "DP2 = (mdot / CD2 / A2)**2 / (2 * rho)\n",
    "\n",
    "# Inlet distribution ring\n",
    "f_darcy_3 = f_darcy(ReDh = Re3, Dh = DH3)\n",
    "dp_dx_3 = dp_dx(f_darcy = f_darcy_3, rho = rho, V = V3, Dh = DH3)\n",
    "\n",
    "DP3 = dp_dx_3 * L3\n",
    "\n",
    "# Turn into cooling channels\n",
    "DP4 = K4 * 0.5 * rho * V4**2\n",
    "\n",
    "# Area change into cooling channels\n",
    "DP5 = K5 * 0.5 * rho * V5_IN**2\n",
    "\n",
    "# Cooling jacket is already done\n",
    "\n",
    "# Outlet distribution ring\n",
    "f_darcy_dist_out = f_darcy(ReDh = Re_DIST_OUT, Dh = DH_DIST_OUT)\n",
    "dp_dx_dist_out = dp_dx(f_darcy = f_darcy_dist_out, rho = rho, V = V_DIST_OUT, Dh = DH_DIST_OUT)\n",
    "\n",
    "DP_DIST_OUT = dp_dx_dist_out * L_DIST_OUT\n",
    "\n",
    "# Return pipe\n",
    "f_darcy_8 = f_darcy(ReDh = Re8, Dh = D8)\n",
    "dp_dx_8 = dp_dx(f_darcy = f_darcy_8, rho = rho, V = V8, Dh = D8)\n",
    "\n",
    "DP8 = dp_dx_8 * L8\n",
    "\n",
    "# Into bucket orifice\n",
    "DP9 = (mdot / CD9 / A9)**2 / (2 * rho)\n"
   ]
  },
  {
   "cell_type": "code",
   "execution_count": 6,
   "id": "4123c311",
   "metadata": {
    "scrolled": false
   },
   "outputs": [
    {
     "name": "stdout",
     "output_type": "stream",
     "text": [
      "Breakdown:\n",
      "0.50 m (Delivery pipe)\n",
      "1.06 m (Inlet orifice)\n",
      "0.03 m (Inlet distribution)\n",
      "0.00 m (90 deg turn into channels)\n",
      "0.10 m (Area change into channels)\n",
      "0.72 m (Channels friction)\n",
      "45.29 m (Oulet distribution)\n",
      "0.50 m (Return pipe)\n",
      "1.06 m (Into bucket)\n",
      "\n",
      "Total pressure drop = 483310.4295154125 Pa\n",
      "                    = 49.26711819728975 m of water head\n",
      "\n",
      "Excluding orifices  = 47.1435896520302 m of water head\n"
     ]
    },
    {
     "data": {
      "image/png": "[encoded data removed]",
      "text/plain": [
       "<Figure size 780x520 with 1 Axes>"
      ]
     },
     "metadata": {
      "needs_background": "light"
     },
     "output_type": "display_data"
    }
   ],
   "source": [
    "# Plot everything\n",
    "x = [0,1,2,3,4,5,6,7,8, 9]\n",
    "DP = [0, DP1, DP2, DP3, DP4, DP5, DP6, DP_DIST_OUT, DP8, DP9]\n",
    "labels = [\"Delivery pipe\",\n",
    "          \"Inlet orifice\", \n",
    "          \"Inlet distribution\", \n",
    "          \"90 deg turn into channels\", \n",
    "          \"Area change into channels\", \n",
    "          \"Channels friction\", \n",
    "          \"Oulet distribution\",\n",
    "          \"Return pipe\",\n",
    "          \"Into bucket\"]\n",
    "\n",
    "DP_TOTAL = sum(DP)\n",
    "DP_EACH_STATION = np.cumsum(DP)\n",
    "DP_EACH_STATION_HEAD = DP_EACH_STATION/1000/9.81\n",
    "\n",
    "plt.plot(x, DP_EACH_STATION_HEAD)\n",
    "plt.scatter(x, DP_EACH_STATION_HEAD)\n",
    "\n",
    "print(\"Breakdown:\")\n",
    "for i in range(len(labels)):\n",
    "    plt.text(x[i] + 0.5, DP_EACH_STATION_HEAD[i], labels[i], rotation = \"vertical\")\n",
    "    \n",
    "    print(f\"{DP[i+1]/1000/9.81:.2f} m ({labels[i]})\")\n",
    "\n",
    "\n",
    "print(f\"\\nTotal pressure drop = {DP_TOTAL} Pa\")\n",
    "print(f\"                    = {DP_EACH_STATION_HEAD[-1]} m of water head\")\n",
    "\n",
    "print(f\"\\nExcluding orifices  = {(DP_TOTAL - DP2 - DP9)/1000/9.81} m of water head\")\n",
    "\n",
    "\n",
    "\n",
    "plt.xlabel(\"Station\")\n",
    "plt.ylabel(\"Pressure drop (m of water head)\")\n",
    "plt.grid()\n",
    "plt.show()"
   ]
  },
  {
   "cell_type": "code",
   "execution_count": null,
   "id": "9714febf",
   "metadata": {},
   "outputs": [],
   "source": []
  }
 ],
 "metadata": {
  "kernelspec": {
   "display_name": "Python 3",
   "language": "python",
   "name": "python3"
  },
  "language_info": {
   "codemirror_mode": {
    "name": "ipython",
    "version": 3
   },
   "file_extension": ".py",
   "mimetype": "text/x-python",
   "name": "python",
   "nbconvert_exporter": "python",
   "pygments_lexer": "ipython3",
   "version": "3.8.8"
  }
 },
 "nbformat": 4,
 "nbformat_minor": 5
}
