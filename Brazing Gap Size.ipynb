{
 "cells": [
  {
   "cell_type": "markdown",
   "id": "2808f98d",
   "metadata": {},
   "source": [
    "# Brazing Gap Size\n",
    "\n",
    "Want a gap size between 0.025 mm and 0.127 mm [1]. But this should be at the temperatures that brazing occurs as.\n",
    "\n",
    "On the retainer ring drawing, I've said the gap size between the copper and steel should aim for 0.1mm (tolerance +0.1mm / -0.0mm).\n",
    "\n",
    "Radius of copper at joint = 61.85 mm  \n",
    "Thermal expansion of Stainless 316 = 16.5e-6 K$^{-1}$  [2]  \n",
    "Thermal expansion of Copper C106 = 16.9e-6 K$^{-1}$  [3]  \n",
    "Brazing temperature = 426 deg C  [4]  \n",
    "Starting temperature = 20 deg C  \n",
    "\n",
    "### References:\n",
    "- [1] - https://lucasmilhaupt.com/EN/Brazing-Academy/Brazing-Fundamentals.htm\n",
    "- [2] - https://www.azom.com/properties.aspx?ArticleID=863\n",
    "- [3] - https://www.azom.com/article.aspx?ArticleID=2851\n",
    "- [4] - https://www.wise-geek.com/what-are-brazing-torches.htm#:~:text=The%20flame%20of%20a%20brazing,F%20(426%C2%B0C)."
   ]
  },
  {
   "cell_type": "code",
   "execution_count": 11,
   "id": "ced8346a",
   "metadata": {},
   "outputs": [
    {
     "name": "stdout",
     "output_type": "stream",
     "text": [
      "\n",
      "Gap size before expansion = 0.10000000000000286 mm\n",
      "Gap size after expansion = 0.09062546000000032 mm\n",
      "\n",
      "Copper radius before thermal expansion = 61.85 mm\n",
      "Copper radius after thermal expansion = 62.27437759 mm\n",
      "\n",
      "Steel radius before thermal expansion = 61.95 mm\n",
      "Steel radius after thermal expansion = 62.36500305 mm\n",
      "\n"
     ]
    }
   ],
   "source": [
    "import numpy as np\n",
    "\n",
    "thermal_expansion_c106 = 16.9e-6\n",
    "thermal_expansion_s316 = 16.5e-6\n",
    "\n",
    "T_cold = 20 + 273.15\n",
    "T_hot = 426 + 273.15\n",
    "dT = T_hot - T_cold\n",
    "\n",
    "minimum_gap_size = 0.1e-3\n",
    "r_cold_copper = 61.85e-3\n",
    "r_cold_steel = 61.85e-3 + minimum_gap_size\n",
    "\n",
    "circ_cold_copper = 2 * np.pi * r_cold_copper    # Circumference - this is the direction thermal expansion happens in I think\n",
    "circ_cold_steel = 2 * np.pi * r_cold_steel  \n",
    "\n",
    "circ_hot_copper = circ_cold_copper * (1 + thermal_expansion_c106 * dT)\n",
    "circ_hot_steel = circ_cold_steel * (1 + thermal_expansion_s316 * dT)\n",
    "\n",
    "r_hot_copper = circ_hot_copper / (2 * np.pi)\n",
    "r_hot_steel = circ_hot_steel / (2 * np.pi)\n",
    "\n",
    "# Don't think I actually needed to calculate circumference and then\n",
    "# go back to finding radius, but I did it anyway\n",
    "\n",
    "print(f\"\"\"\n",
    "Gap size before expansion = {(r_cold_steel - r_cold_copper)*1e3} mm\n",
    "Gap size after expansion = {(r_hot_steel - r_hot_copper)*1e3} mm\n",
    "\n",
    "Copper radius before thermal expansion = {r_cold_copper*1e3} mm\n",
    "Copper radius after thermal expansion = {r_hot_copper*1e3} mm\n",
    "\n",
    "Steel radius before thermal expansion = {r_cold_steel*1e3} mm\n",
    "Steel radius after thermal expansion = {r_hot_steel*1e3} mm\n",
    "\"\"\")"
   ]
  },
  {
   "cell_type": "code",
   "execution_count": null,
   "id": "e9e638d9",
   "metadata": {},
   "outputs": [],
   "source": []
  }
 ],
 "metadata": {
  "kernelspec": {
   "display_name": "Python 3",
   "language": "python",
   "name": "python3"
  },
  "language_info": {
   "codemirror_mode": {
    "name": "ipython",
    "version": 3
   },
   "file_extension": ".py",
   "mimetype": "text/x-python",
   "name": "python",
   "nbconvert_exporter": "python",
   "pygments_lexer": "ipython3",
   "version": "3.8.8"
  }
 },
 "nbformat": 4,
 "nbformat_minor": 5
}
